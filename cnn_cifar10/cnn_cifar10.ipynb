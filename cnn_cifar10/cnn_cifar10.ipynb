{
 "cells": [
  {
   "cell_type": "code",
   "execution_count": null,
   "metadata": {
    "collapsed": false
   },
   "outputs": [],
   "source": [
    "'''Train a simple deep CNN on the CIFAR10 small images dataset.\n",
    "GPU run command with Theano backend (with TensorFlow, the GPU is automatically used):\n",
    "    THEANO_FLAGS=mode=FAST_RUN,device=gpu,floatx=float32 python cifar10_cnn.py\n",
    "It gets down to 0.65 test logloss in 25 epochs, and down to 0.55 after 50 epochs.\n",
    "(it's still underfitting at that point, though).\n",
    "'''\n",
    "\n",
    "from __future__ import print_function\n",
    "import keras\n",
    "from keras.datasets import cifar10\n",
    "from keras.preprocessing.image import ImageDataGenerator\n",
    "from keras.models import Sequential\n",
    "from keras.layers import Dense, Dropout, Activation, Flatten\n",
    "from keras.layers import Conv2D, MaxPooling2D\n",
    "\n",
    "batch_size = 32\n",
    "num_classes = 10\n",
    "epochs = 10\n",
    "\n",
    "# input image dimensions\n",
    "img_rows, img_cols = 32, 32\n",
    "# The CIFAR10 images are RGB.\n",
    "img_channels = 3"
   ]
  },
  {
   "cell_type": "code",
   "execution_count": 2,
   "metadata": {
    "collapsed": false,
    "scrolled": true
   },
   "outputs": [
    {
     "name": "stdout",
     "output_type": "stream",
     "text": [
      "x_train shape: (1000, 3, 32, 32)\n",
      "1000 train samples\n",
      "200 test samples\n"
     ]
    }
   ],
   "source": [
    "# The data, shuffled and split between train and test sets:\n",
    "(raw_x_train, raw_y_train), (raw_x_test, raw_y_test) = cifar10.load_data()\n",
    "X_train = raw_x_train[:1000]\n",
    "Y_train = raw_y_train[:1000]\n",
    "X_test = raw_x_test[:200]\n",
    "Y_test = raw_y_test[:200]\n",
    "print('x_train shape:', X_train.shape)\n",
    "print(X_train.shape[0], 'train samples')\n",
    "print(X_test.shape[0], 'test samples')"
   ]
  },
  {
   "cell_type": "code",
   "execution_count": 3,
   "metadata": {
    "collapsed": false
   },
   "outputs": [
    {
     "name": "stdout",
     "output_type": "stream",
     "text": [
      "1000 train samples results\n",
      "200 test samples results\n"
     ]
    }
   ],
   "source": [
    "print(X_train.shape[0], 'train samples results')\n",
    "print(Y_test.shape[0], 'test samples results')"
   ]
  },
  {
   "cell_type": "code",
   "execution_count": 4,
   "metadata": {
    "collapsed": true
   },
   "outputs": [],
   "source": [
    "# Convert class vectors to binary class matrices.\n",
    "#결과 값이 숫자 형태로 되어 있는데, 이를 one_hot 형태로 바꿔줌 (6 -> 0,0,0,0,0,1,0,0,0)\n",
    "Y_train = keras.utils.np_utils.to_categorical(Y_train, num_classes)\n",
    "Y_test = keras.utils.np_utils.to_categorical(Y_test, num_classes)"
   ]
  },
  {
   "cell_type": "code",
   "execution_count": 5,
   "metadata": {
    "collapsed": true
   },
   "outputs": [],
   "source": [
    "answer = ['airplane','automobile','bird','cat','deer','dog','frog','horse','ship','truck']"
   ]
  },
  {
   "cell_type": "code",
   "execution_count": 6,
   "metadata": {
    "collapsed": false
   },
   "outputs": [],
   "source": [
    "X_train = X_train.astype('float32')\n",
    "X_test = X_test.astype('float32')\n",
    "X_train /= 255\n",
    "X_test /= 255"
   ]
  },
  {
   "cell_type": "code",
   "execution_count": 7,
   "metadata": {
    "collapsed": false
   },
   "outputs": [],
   "source": [
    "model = Sequential()\n",
    "\n",
    "model.add(Conv2D(32, 3, 3, input_shape=X_train.shape[1:]))\n",
    "model.add(Activation('relu'))\n",
    "model.add(Conv2D(32, 3, 3))\n",
    "model.add(Activation('relu'))\n",
    "model.add(MaxPooling2D(pool_size=(2, 2)))\n",
    "model.add(Dropout(0.25))\n",
    "\n",
    "model.add(Conv2D(64, 3, 3))\n",
    "model.add(Activation('relu'))\n",
    "model.add(Conv2D(64, 3, 3))\n",
    "model.add(Activation('relu'))\n",
    "model.add(MaxPooling2D(pool_size=(2, 2)))\n",
    "model.add(Dropout(0.25))\n",
    "\n",
    "model.add(Flatten())\n",
    "model.add(Dense(512))\n",
    "model.add(Activation('relu'))\n",
    "model.add(Dropout(0.5))\n",
    "model.add(Dense(num_classes))\n",
    "model.add(Activation('softmax'))\n",
    "\n",
    "# Let's train the model using RMSprop\n",
    "model.compile(loss='categorical_crossentropy', optimizer='rmsprop', metrics=['accuracy'])"
   ]
  },
  {
   "cell_type": "code",
   "execution_count": 8,
   "metadata": {
    "collapsed": false
   },
   "outputs": [
    {
     "data": {
      "text/plain": [
       "(3, 32, 32)"
      ]
     },
     "execution_count": 8,
     "metadata": {},
     "output_type": "execute_result"
    }
   ],
   "source": [
    "X_train[1].shape"
   ]
  },
  {
   "cell_type": "code",
   "execution_count": 9,
   "metadata": {
    "collapsed": false,
    "scrolled": true
   },
   "outputs": [
    {
     "name": "stdout",
     "output_type": "stream",
     "text": [
      "answer is \"frog\"\n",
      "answer is \"truck\"\n",
      "answer is \"truck\"\n"
     ]
    },
    {
     "data": {
      "text/plain": [
       "<matplotlib.figure.Figure at 0x159fbe48>"
      ]
     },
     "metadata": {},
     "output_type": "display_data"
    },
    {
     "data": {
      "image/png": "[encoded data removed]",
      "text/plain": [
       "<matplotlib.figure.Figure at 0x159fbe10>"
      ]
     },
     "metadata": {},
     "output_type": "display_data"
    },
    {
     "data": {
      "text/plain": [
       "<matplotlib.figure.Figure at 0x161a5208>"
      ]
     },
     "metadata": {},
     "output_type": "display_data"
    },
    {
     "data": {
      "image/png": "[encoded data removed]",
      "text/plain": [
       "<matplotlib.figure.Figure at 0x161a5b70>"
      ]
     },
     "metadata": {},
     "output_type": "display_data"
    },
    {
     "data": {
      "text/plain": [
       "<matplotlib.figure.Figure at 0x161d4390>"
      ]
     },
     "metadata": {},
     "output_type": "display_data"
    },
    {
     "data": {
      "image/png": "[encoded data removed]",
      "text/plain": [
       "<matplotlib.figure.Figure at 0x161d4160>"
      ]
     },
     "metadata": {},
     "output_type": "display_data"
    }
   ],
   "source": [
    "%matplotlib inline\n",
    "\n",
    "from IPython.display import Image \n",
    "import matplotlib.pyplot as plt\n",
    "import matplotlib.image as mpimg\n",
    "import matplotlib.cm as cm\n",
    "import numpy as np\n",
    "import scipy\n",
    "\n",
    "for idx in range(0,3):\n",
    "    print('answer is \"%s\"' % ( answer[np.where(Y_train[idx]==1.0)[0][0]]))\n",
    "    plt.figure()\n",
    "    rotated_img = scipy.ndimage.rotate(X_train[idx].transpose(), -90)\n",
    "    plt.subplots(figsize=(0.5, 0.5))\n",
    "    plt.axis('off')\n",
    "    plt.imshow(rotated_img)"
   ]
  },
  {
   "cell_type": "code",
   "execution_count": 10,
   "metadata": {
    "collapsed": false,
    "scrolled": false
   },
   "outputs": [
    {
     "data": {
      "image/svg+xml": [
       "<svg height=\"1359pt\" viewBox=\"0.00 0.00 222.00 1359.00\" width=\"222pt\" xmlns=\"http://www.w3.org/2000/svg\" xmlns:xlink=\"http://www.w3.org/1999/xlink\">\n",
       "<g class=\"graph\" id=\"graph0\" transform=\"scale(1 1) rotate(0) translate(4 1355)\">\n",
       "<title>G</title>\n",
       "<polygon fill=\"white\" points=\"-4,4 -4,-1355 218,-1355 218,4 -4,4\" stroke=\"none\"/>\n",
       "<!-- 187471352 -->\n",
       "<g class=\"node\" id=\"node1\"><title>187471352</title>\n",
       "<polygon fill=\"none\" points=\"0,-1314.5 0,-1350.5 214,-1350.5 214,-1314.5 0,-1314.5\" stroke=\"black\"/>\n",
       "<text font-family=\"Times New Roman,serif\" font-size=\"14.00\" text-anchor=\"middle\" x=\"107\" y=\"-1328.8\">convolution2d_input_1: InputLayer</text>\n",
       "</g>\n",
       "<!-- 187471128 -->\n",
       "<g class=\"node\" id=\"node2\"><title>187471128</title>\n",
       "<polygon fill=\"none\" points=\"5.5,-1241.5 5.5,-1277.5 208.5,-1277.5 208.5,-1241.5 5.5,-1241.5\" stroke=\"black\"/>\n",
       "<text font-family=\"Times New Roman,serif\" font-size=\"14.00\" text-anchor=\"middle\" x=\"107\" y=\"-1255.8\">convolution2d_1: Convolution2D</text>\n",
       "</g>\n",
       "<!-- 187471352&#45;&gt;187471128 -->\n",
       "<g class=\"edge\" id=\"edge1\"><title>187471352-&gt;187471128</title>\n",
       "<path d=\"M107,-1314.31C107,-1306.29 107,-1296.55 107,-1287.57\" fill=\"none\" stroke=\"black\"/>\n",
       "<polygon fill=\"black\" points=\"110.5,-1287.53 107,-1277.53 103.5,-1287.53 110.5,-1287.53\" stroke=\"black\"/>\n",
       "</g>\n",
       "<!-- 187471240 -->\n",
       "<g class=\"node\" id=\"node3\"><title>187471240</title>\n",
       "<polygon fill=\"none\" points=\"33,-1168.5 33,-1204.5 181,-1204.5 181,-1168.5 33,-1168.5\" stroke=\"black\"/>\n",
       "<text font-family=\"Times New Roman,serif\" font-size=\"14.00\" text-anchor=\"middle\" x=\"107\" y=\"-1182.8\">activation_1: Activation</text>\n",
       "</g>\n",
       "<!-- 187471128&#45;&gt;187471240 -->\n",
       "<g class=\"edge\" id=\"edge2\"><title>187471128-&gt;187471240</title>\n",
       "<path d=\"M107,-1241.31C107,-1233.29 107,-1223.55 107,-1214.57\" fill=\"none\" stroke=\"black\"/>\n",
       "<polygon fill=\"black\" points=\"110.5,-1214.53 107,-1204.53 103.5,-1214.53 110.5,-1214.53\" stroke=\"black\"/>\n",
       "</g>\n",
       "<!-- 356964616 -->\n",
       "<g class=\"node\" id=\"node4\"><title>356964616</title>\n",
       "<polygon fill=\"none\" points=\"5.5,-1095.5 5.5,-1131.5 208.5,-1131.5 208.5,-1095.5 5.5,-1095.5\" stroke=\"black\"/>\n",
       "<text font-family=\"Times New Roman,serif\" font-size=\"14.00\" text-anchor=\"middle\" x=\"107\" y=\"-1109.8\">convolution2d_2: Convolution2D</text>\n",
       "</g>\n",
       "<!-- 187471240&#45;&gt;356964616 -->\n",
       "<g class=\"edge\" id=\"edge3\"><title>187471240-&gt;356964616</title>\n",
       "<path d=\"M107,-1168.31C107,-1160.29 107,-1150.55 107,-1141.57\" fill=\"none\" stroke=\"black\"/>\n",
       "<polygon fill=\"black\" points=\"110.5,-1141.53 107,-1131.53 103.5,-1141.53 110.5,-1141.53\" stroke=\"black\"/>\n",
       "</g>\n",
       "<!-- 357861752 -->\n",
       "<g class=\"node\" id=\"node5\"><title>357861752</title>\n",
       "<polygon fill=\"none\" points=\"33,-1022.5 33,-1058.5 181,-1058.5 181,-1022.5 33,-1022.5\" stroke=\"black\"/>\n",
       "<text font-family=\"Times New Roman,serif\" font-size=\"14.00\" text-anchor=\"middle\" x=\"107\" y=\"-1036.8\">activation_2: Activation</text>\n",
       "</g>\n",
       "<!-- 356964616&#45;&gt;357861752 -->\n",
       "<g class=\"edge\" id=\"edge4\"><title>356964616-&gt;357861752</title>\n",
       "<path d=\"M107,-1095.31C107,-1087.29 107,-1077.55 107,-1068.57\" fill=\"none\" stroke=\"black\"/>\n",
       "<polygon fill=\"black\" points=\"110.5,-1068.53 107,-1058.53 103.5,-1068.53 110.5,-1068.53\" stroke=\"black\"/>\n",
       "</g>\n",
       "<!-- 356962824 -->\n",
       "<g class=\"node\" id=\"node6\"><title>356962824</title>\n",
       "<polygon fill=\"none\" points=\"6.5,-949.5 6.5,-985.5 207.5,-985.5 207.5,-949.5 6.5,-949.5\" stroke=\"black\"/>\n",
       "<text font-family=\"Times New Roman,serif\" font-size=\"14.00\" text-anchor=\"middle\" x=\"107\" y=\"-963.8\">maxpooling2d_1: MaxPooling2D</text>\n",
       "</g>\n",
       "<!-- 357861752&#45;&gt;356962824 -->\n",
       "<g class=\"edge\" id=\"edge5\"><title>357861752-&gt;356962824</title>\n",
       "<path d=\"M107,-1022.31C107,-1014.29 107,-1004.55 107,-995.569\" fill=\"none\" stroke=\"black\"/>\n",
       "<polygon fill=\"black\" points=\"110.5,-995.529 107,-985.529 103.5,-995.529 110.5,-995.529\" stroke=\"black\"/>\n",
       "</g>\n",
       "<!-- 356963104 -->\n",
       "<g class=\"node\" id=\"node7\"><title>356963104</title>\n",
       "<polygon fill=\"none\" points=\"42,-876.5 42,-912.5 172,-912.5 172,-876.5 42,-876.5\" stroke=\"black\"/>\n",
       "<text font-family=\"Times New Roman,serif\" font-size=\"14.00\" text-anchor=\"middle\" x=\"107\" y=\"-890.8\">dropout_1: Dropout</text>\n",
       "</g>\n",
       "<!-- 356962824&#45;&gt;356963104 -->\n",
       "<g class=\"edge\" id=\"edge6\"><title>356962824-&gt;356963104</title>\n",
       "<path d=\"M107,-949.313C107,-941.289 107,-931.547 107,-922.569\" fill=\"none\" stroke=\"black\"/>\n",
       "<polygon fill=\"black\" points=\"110.5,-922.529 107,-912.529 103.5,-922.529 110.5,-922.529\" stroke=\"black\"/>\n",
       "</g>\n",
       "<!-- 357885432 -->\n",
       "<g class=\"node\" id=\"node8\"><title>357885432</title>\n",
       "<polygon fill=\"none\" points=\"5.5,-803.5 5.5,-839.5 208.5,-839.5 208.5,-803.5 5.5,-803.5\" stroke=\"black\"/>\n",
       "<text font-family=\"Times New Roman,serif\" font-size=\"14.00\" text-anchor=\"middle\" x=\"107\" y=\"-817.8\">convolution2d_3: Convolution2D</text>\n",
       "</g>\n",
       "<!-- 356963104&#45;&gt;357885432 -->\n",
       "<g class=\"edge\" id=\"edge7\"><title>356963104-&gt;357885432</title>\n",
       "<path d=\"M107,-876.313C107,-868.289 107,-858.547 107,-849.569\" fill=\"none\" stroke=\"black\"/>\n",
       "<polygon fill=\"black\" points=\"110.5,-849.529 107,-839.529 103.5,-849.529 110.5,-849.529\" stroke=\"black\"/>\n",
       "</g>\n",
       "<!-- 361326016 -->\n",
       "<g class=\"node\" id=\"node9\"><title>361326016</title>\n",
       "<polygon fill=\"none\" points=\"33,-730.5 33,-766.5 181,-766.5 181,-730.5 33,-730.5\" stroke=\"black\"/>\n",
       "<text font-family=\"Times New Roman,serif\" font-size=\"14.00\" text-anchor=\"middle\" x=\"107\" y=\"-744.8\">activation_3: Activation</text>\n",
       "</g>\n",
       "<!-- 357885432&#45;&gt;361326016 -->\n",
       "<g class=\"edge\" id=\"edge8\"><title>357885432-&gt;361326016</title>\n",
       "<path d=\"M107,-803.313C107,-795.289 107,-785.547 107,-776.569\" fill=\"none\" stroke=\"black\"/>\n",
       "<polygon fill=\"black\" points=\"110.5,-776.529 107,-766.529 103.5,-776.529 110.5,-776.529\" stroke=\"black\"/>\n",
       "</g>\n",
       "<!-- 361403336 -->\n",
       "<g class=\"node\" id=\"node10\"><title>361403336</title>\n",
       "<polygon fill=\"none\" points=\"5.5,-657.5 5.5,-693.5 208.5,-693.5 208.5,-657.5 5.5,-657.5\" stroke=\"black\"/>\n",
       "<text font-family=\"Times New Roman,serif\" font-size=\"14.00\" text-anchor=\"middle\" x=\"107\" y=\"-671.8\">convolution2d_4: Convolution2D</text>\n",
       "</g>\n",
       "<!-- 361326016&#45;&gt;361403336 -->\n",
       "<g class=\"edge\" id=\"edge9\"><title>361326016-&gt;361403336</title>\n",
       "<path d=\"M107,-730.313C107,-722.289 107,-712.547 107,-703.569\" fill=\"none\" stroke=\"black\"/>\n",
       "<polygon fill=\"black\" points=\"110.5,-703.529 107,-693.529 103.5,-703.529 110.5,-703.529\" stroke=\"black\"/>\n",
       "</g>\n",
       "<!-- 361406080 -->\n",
       "<g class=\"node\" id=\"node11\"><title>361406080</title>\n",
       "<polygon fill=\"none\" points=\"33,-584.5 33,-620.5 181,-620.5 181,-584.5 33,-584.5\" stroke=\"black\"/>\n",
       "<text font-family=\"Times New Roman,serif\" font-size=\"14.00\" text-anchor=\"middle\" x=\"107\" y=\"-598.8\">activation_4: Activation</text>\n",
       "</g>\n",
       "<!-- 361403336&#45;&gt;361406080 -->\n",
       "<g class=\"edge\" id=\"edge10\"><title>361403336-&gt;361406080</title>\n",
       "<path d=\"M107,-657.313C107,-649.289 107,-639.547 107,-630.569\" fill=\"none\" stroke=\"black\"/>\n",
       "<polygon fill=\"black\" points=\"110.5,-630.529 107,-620.529 103.5,-630.529 110.5,-630.529\" stroke=\"black\"/>\n",
       "</g>\n",
       "<!-- 361405128 -->\n",
       "<g class=\"node\" id=\"node12\"><title>361405128</title>\n",
       "<polygon fill=\"none\" points=\"6.5,-511.5 6.5,-547.5 207.5,-547.5 207.5,-511.5 6.5,-511.5\" stroke=\"black\"/>\n",
       "<text font-family=\"Times New Roman,serif\" font-size=\"14.00\" text-anchor=\"middle\" x=\"107\" y=\"-525.8\">maxpooling2d_2: MaxPooling2D</text>\n",
       "</g>\n",
       "<!-- 361406080&#45;&gt;361405128 -->\n",
       "<g class=\"edge\" id=\"edge11\"><title>361406080-&gt;361405128</title>\n",
       "<path d=\"M107,-584.313C107,-576.289 107,-566.547 107,-557.569\" fill=\"none\" stroke=\"black\"/>\n",
       "<polygon fill=\"black\" points=\"110.5,-557.529 107,-547.529 103.5,-557.529 110.5,-557.529\" stroke=\"black\"/>\n",
       "</g>\n",
       "<!-- 361301272 -->\n",
       "<g class=\"node\" id=\"node13\"><title>361301272</title>\n",
       "<polygon fill=\"none\" points=\"42,-438.5 42,-474.5 172,-474.5 172,-438.5 42,-438.5\" stroke=\"black\"/>\n",
       "<text font-family=\"Times New Roman,serif\" font-size=\"14.00\" text-anchor=\"middle\" x=\"107\" y=\"-452.8\">dropout_2: Dropout</text>\n",
       "</g>\n",
       "<!-- 361405128&#45;&gt;361301272 -->\n",
       "<g class=\"edge\" id=\"edge12\"><title>361405128-&gt;361301272</title>\n",
       "<path d=\"M107,-511.313C107,-503.289 107,-493.547 107,-484.569\" fill=\"none\" stroke=\"black\"/>\n",
       "<polygon fill=\"black\" points=\"110.5,-484.529 107,-474.529 103.5,-484.529 110.5,-484.529\" stroke=\"black\"/>\n",
       "</g>\n",
       "<!-- 361302840 -->\n",
       "<g class=\"node\" id=\"node14\"><title>361302840</title>\n",
       "<polygon fill=\"none\" points=\"52.5,-365.5 52.5,-401.5 161.5,-401.5 161.5,-365.5 52.5,-365.5\" stroke=\"black\"/>\n",
       "<text font-family=\"Times New Roman,serif\" font-size=\"14.00\" text-anchor=\"middle\" x=\"107\" y=\"-379.8\">flatten_1: Flatten</text>\n",
       "</g>\n",
       "<!-- 361301272&#45;&gt;361302840 -->\n",
       "<g class=\"edge\" id=\"edge13\"><title>361301272-&gt;361302840</title>\n",
       "<path d=\"M107,-438.313C107,-430.289 107,-420.547 107,-411.569\" fill=\"none\" stroke=\"black\"/>\n",
       "<polygon fill=\"black\" points=\"110.5,-411.529 107,-401.529 103.5,-411.529 110.5,-411.529\" stroke=\"black\"/>\n",
       "</g>\n",
       "<!-- 361475208 -->\n",
       "<g class=\"node\" id=\"node15\"><title>361475208</title>\n",
       "<polygon fill=\"none\" points=\"55,-292.5 55,-328.5 159,-328.5 159,-292.5 55,-292.5\" stroke=\"black\"/>\n",
       "<text font-family=\"Times New Roman,serif\" font-size=\"14.00\" text-anchor=\"middle\" x=\"107\" y=\"-306.8\">dense_1: Dense</text>\n",
       "</g>\n",
       "<!-- 361302840&#45;&gt;361475208 -->\n",
       "<g class=\"edge\" id=\"edge14\"><title>361302840-&gt;361475208</title>\n",
       "<path d=\"M107,-365.313C107,-357.289 107,-347.547 107,-338.569\" fill=\"none\" stroke=\"black\"/>\n",
       "<polygon fill=\"black\" points=\"110.5,-338.529 107,-328.529 103.5,-338.529 110.5,-338.529\" stroke=\"black\"/>\n",
       "</g>\n",
       "<!-- 361735784 -->\n",
       "<g class=\"node\" id=\"node16\"><title>361735784</title>\n",
       "<polygon fill=\"none\" points=\"33,-219.5 33,-255.5 181,-255.5 181,-219.5 33,-219.5\" stroke=\"black\"/>\n",
       "<text font-family=\"Times New Roman,serif\" font-size=\"14.00\" text-anchor=\"middle\" x=\"107\" y=\"-233.8\">activation_5: Activation</text>\n",
       "</g>\n",
       "<!-- 361475208&#45;&gt;361735784 -->\n",
       "<g class=\"edge\" id=\"edge15\"><title>361475208-&gt;361735784</title>\n",
       "<path d=\"M107,-292.313C107,-284.289 107,-274.547 107,-265.569\" fill=\"none\" stroke=\"black\"/>\n",
       "<polygon fill=\"black\" points=\"110.5,-265.529 107,-255.529 103.5,-265.529 110.5,-265.529\" stroke=\"black\"/>\n",
       "</g>\n",
       "<!-- 361738080 -->\n",
       "<g class=\"node\" id=\"node17\"><title>361738080</title>\n",
       "<polygon fill=\"none\" points=\"42,-146.5 42,-182.5 172,-182.5 172,-146.5 42,-146.5\" stroke=\"black\"/>\n",
       "<text font-family=\"Times New Roman,serif\" font-size=\"14.00\" text-anchor=\"middle\" x=\"107\" y=\"-160.8\">dropout_3: Dropout</text>\n",
       "</g>\n",
       "<!-- 361735784&#45;&gt;361738080 -->\n",
       "<g class=\"edge\" id=\"edge16\"><title>361735784-&gt;361738080</title>\n",
       "<path d=\"M107,-219.313C107,-211.289 107,-201.547 107,-192.569\" fill=\"none\" stroke=\"black\"/>\n",
       "<polygon fill=\"black\" points=\"110.5,-192.529 107,-182.529 103.5,-192.529 110.5,-192.529\" stroke=\"black\"/>\n",
       "</g>\n",
       "<!-- 362359384 -->\n",
       "<g class=\"node\" id=\"node18\"><title>362359384</title>\n",
       "<polygon fill=\"none\" points=\"55,-73.5 55,-109.5 159,-109.5 159,-73.5 55,-73.5\" stroke=\"black\"/>\n",
       "<text font-family=\"Times New Roman,serif\" font-size=\"14.00\" text-anchor=\"middle\" x=\"107\" y=\"-87.8\">dense_2: Dense</text>\n",
       "</g>\n",
       "<!-- 361738080&#45;&gt;362359384 -->\n",
       "<g class=\"edge\" id=\"edge17\"><title>361738080-&gt;362359384</title>\n",
       "<path d=\"M107,-146.313C107,-138.289 107,-128.547 107,-119.569\" fill=\"none\" stroke=\"black\"/>\n",
       "<polygon fill=\"black\" points=\"110.5,-119.529 107,-109.529 103.5,-119.529 110.5,-119.529\" stroke=\"black\"/>\n",
       "</g>\n",
       "<!-- 362419144 -->\n",
       "<g class=\"node\" id=\"node19\"><title>362419144</title>\n",
       "<polygon fill=\"none\" points=\"33,-0.5 33,-36.5 181,-36.5 181,-0.5 33,-0.5\" stroke=\"black\"/>\n",
       "<text font-family=\"Times New Roman,serif\" font-size=\"14.00\" text-anchor=\"middle\" x=\"107\" y=\"-14.8\">activation_6: Activation</text>\n",
       "</g>\n",
       "<!-- 362359384&#45;&gt;362419144 -->\n",
       "<g class=\"edge\" id=\"edge18\"><title>362359384-&gt;362419144</title>\n",
       "<path d=\"M107,-73.3129C107,-65.2895 107,-55.5475 107,-46.5691\" fill=\"none\" stroke=\"black\"/>\n",
       "<polygon fill=\"black\" points=\"110.5,-46.5288 107,-36.5288 103.5,-46.5289 110.5,-46.5288\" stroke=\"black\"/>\n",
       "</g>\n",
       "</g>\n",
       "</svg>"
      ],
      "text/plain": [
       "<IPython.core.display.SVG object>"
      ]
     },
     "execution_count": 10,
     "metadata": {},
     "output_type": "execute_result"
    }
   ],
   "source": [
    "from IPython.display import SVG\n",
    "from keras.utils.visualize_util import model_to_dot\n",
    "\n",
    "SVG(model_to_dot(model).create(prog='dot', format='svg'))"
   ]
  },
  {
   "cell_type": "code",
   "execution_count": 11,
   "metadata": {
    "collapsed": false,
    "scrolled": false
   },
   "outputs": [
    {
     "name": "stdout",
     "output_type": "stream",
     "text": [
      "Train on 1000 samples, validate on 200 samples\n",
      "Epoch 1/10\n",
      "43s - loss: 2.3062 - acc: 0.1240 - val_loss: 2.2776 - val_acc: 0.2450\n",
      "Epoch 2/10\n",
      "42s - loss: 2.2250 - acc: 0.2080 - val_loss: 2.1316 - val_acc: 0.1900\n",
      "Epoch 3/10\n",
      "42s - loss: 2.0028 - acc: 0.2880 - val_loss: 1.9010 - val_acc: 0.3200\n",
      "Epoch 4/10\n",
      "44s - loss: 1.9208 - acc: 0.3090 - val_loss: 1.8515 - val_acc: 0.3400\n",
      "Epoch 5/10\n",
      "44s - loss: 1.7961 - acc: 0.3410 - val_loss: 2.0779 - val_acc: 0.2850\n",
      "Epoch 6/10\n",
      "44s - loss: 1.7554 - acc: 0.3690 - val_loss: 2.1307 - val_acc: 0.2800\n",
      "Epoch 7/10\n",
      "44s - loss: 1.6979 - acc: 0.3760 - val_loss: 1.8231 - val_acc: 0.3350\n",
      "Epoch 8/10\n",
      "43s - loss: 1.6214 - acc: 0.4190 - val_loss: 1.8974 - val_acc: 0.3350\n",
      "Epoch 9/10\n",
      "43s - loss: 1.5189 - acc: 0.4430 - val_loss: 1.8051 - val_acc: 0.3450\n",
      "Epoch 10/10\n",
      "43s - loss: 1.4789 - acc: 0.4890 - val_loss: 1.8393 - val_acc: 0.3350\n"
     ]
    },
    {
     "data": {
      "text/plain": [
       "<keras.callbacks.History at 0x1ae64080>"
      ]
     },
     "execution_count": 11,
     "metadata": {},
     "output_type": "execute_result"
    }
   ],
   "source": [
    "model.fit(X_train, Y_train, batch_size=batch_size, nb_epoch=epochs,validation_data=(X_test, Y_test), shuffle=True, verbose=2)"
   ]
  },
  {
   "cell_type": "code",
   "execution_count": 12,
   "metadata": {
    "collapsed": false
   },
   "outputs": [],
   "source": [
    "preds = model.predict_classes(X_test, verbose=0)"
   ]
  },
  {
   "cell_type": "code",
   "execution_count": 13,
   "metadata": {
    "collapsed": false
   },
   "outputs": [
    {
     "name": "stdout",
     "output_type": "stream",
     "text": [
      "prediction: dog , real answer: cat\n",
      "prediction: airplane , real answer: ship\n",
      "prediction: ship , real answer: airplane\n",
      "prediction: cat , real answer: frog\n"
     ]
    },
    {
     "name": "stderr",
     "output_type": "stream",
     "text": [
      "C:\\Users\\smilemango\\Anaconda3\\envs\\py34\\lib\\site-packages\\ipykernel\\__main__.py:16: DeprecationWarning: converting an array with ndim > 0 to an index will result in an error in the future\n"
     ]
    },
    {
     "data": {
      "image/png": "[encoded data removed]",
      "text/plain": [
       "<matplotlib.figure.Figure at 0x159fb668>"
      ]
     },
     "metadata": {},
     "output_type": "display_data"
    },
    {
     "data": {
      "image/png": "[encoded data removed]",
      "text/plain": [
       "<matplotlib.figure.Figure at 0x13ebf60>"
      ]
     },
     "metadata": {},
     "output_type": "display_data"
    },
    {
     "data": {
      "image/png": "[encoded data removed]",
      "text/plain": [
       "<matplotlib.figure.Figure at 0x14404a8>"
      ]
     },
     "metadata": {},
     "output_type": "display_data"
    },
    {
     "data": {
      "image/png": "[encoded data removed]",
      "text/plain": [
       "<matplotlib.figure.Figure at 0x1474ac8>"
      ]
     },
     "metadata": {},
     "output_type": "display_data"
    }
   ],
   "source": [
    "%matplotlib inline\n",
    "\n",
    "from IPython.display import Image \n",
    "import matplotlib.pyplot as plt\n",
    "import matplotlib.image as mpimg\n",
    "import matplotlib.cm as cm\n",
    "\n",
    "my_y = raw_y_test[:200]\n",
    "comp_result = np.equal(preds,my_y.reshape(len(my_y)))\n",
    "#comp_result = np.equal(preds,raw_y_test)\n",
    "locs = np.where(comp_result==False)[0].tolist() # Find wrong answer positions\n",
    "\n",
    "\n",
    "# 틀린 결과가 많으니 앞의 4개의 결과만 확인해 봅니다.\n",
    "for idx in locs[0:4]:\n",
    "    print('prediction:', answer[preds[idx]], ', real answer:', answer[raw_y_test[idx]])\n",
    "    rotated_img = scipy.ndimage.rotate(X_test[idx].transpose(), -90)\n",
    "    plt.subplots(figsize=(0.5, 0.5))\n",
    "    plt.axis('off')\n",
    "    plt.imshow(rotated_img)"
   ]
  }
 ],
 "metadata": {
  "kernelspec": {
   "display_name": "Python 3",
   "language": "python",
   "name": "python3"
  },
  "language_info": {
   "codemirror_mode": {
    "name": "ipython",
    "version": 3.0
   },
   "file_extension": ".py",
   "mimetype": "text/x-python",
   "name": "python",
   "nbconvert_exporter": "python",
   "pygments_lexer": "ipython3",
   "version": "3.4.5"
  }
 },
 "nbformat": 4,
 "nbformat_minor": 0
}